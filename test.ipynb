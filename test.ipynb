{
 "cells": [
  {
   "cell_type": "code",
   "execution_count": 17,
   "metadata": {},
   "outputs": [],
   "source": [
    "from dwave.optimization.mathematical import add, maximum, multiply\n",
    "from dwave.optimization.model import Model\n",
    "from dwave.system import LeapHybridNLSampler\n",
    "sampler = LeapHybridNLSampler()\n",
    "\n"
   ]
  },
  {
   "cell_type": "code",
   "execution_count": 23,
   "metadata": {},
   "outputs": [
    {
     "name": "stdout",
     "output_type": "stream",
     "text": [
      "Binary formulation test\n",
      "[array([1., 1., 0., 0., 1.])]\n",
      "-12.0\n",
      "\n",
      " Set formulation test\n",
      "[array([1., 4., 0.])]\n",
      "-12.0\n"
     ]
    }
   ],
   "source": [
    "w = [10,20,30,40,50]\n",
    "v = [3,5,2,1,4]\n",
    "C = 90\n",
    "#### ------- Binary\n",
    "num_items = len(w)\n",
    "\n",
    "\n",
    "\n",
    "model_binary = Model()\n",
    "vars = model_binary.binary(num_items)\n",
    "weights = model_binary.constant(w)\n",
    "values = model_binary.constant(v)\n",
    "capacity = model_binary.constant(C)\n",
    "model_binary.minimize(-(vars*values).sum())\n",
    "model_binary.add_constraint((vars*weights).sum() <= capacity)\n",
    "sampler.sample(model_binary, time_limit=5)\n",
    "\n",
    "model_set = Model()\n",
    "vars = model_set.set(num_items)\n",
    "weights = model_set.constant(w)\n",
    "values = model_set.constant(v)\n",
    "capacity = model_set.constant(C)\n",
    "model_set.minimize(-values[vars].sum())\n",
    "model_set.add_constraint(weights[vars].sum() <= capacity)\n",
    "sampler.sample(model_set,time_limit=5)\n",
    "\n",
    "print('Binary formulation test')\n",
    "with model_binary.lock():\n",
    "    print(list(sym.state(0) for sym in model_binary.iter_decisions()))\n",
    "    print(model_binary.objective.state(0))\n",
    "print('\\n Set formulation test')\n",
    "with model_set.lock():\n",
    "    print(list(sym.state(0) for sym in model_set.iter_decisions()))\n",
    "    print(model_set.objective.state(0))\n",
    "\n",
    "\n",
    "\n"
   ]
  },
  {
   "cell_type": "code",
   "execution_count": null,
   "metadata": {},
   "outputs": [
    {
     "data": {
      "text/plain": [
       "<dwave.optimization.symbols.Sum at 0x5768711c2d80>"
      ]
     },
     "execution_count": 6,
     "metadata": {},
     "output_type": "execute_result"
    }
   ],
   "source": []
  },
  {
   "cell_type": "code",
   "execution_count": null,
   "metadata": {},
   "outputs": [],
   "source": []
  }
 ],
 "metadata": {
  "kernelspec": {
   "display_name": "Python 3",
   "language": "python",
   "name": "python3"
  },
  "language_info": {
   "codemirror_mode": {
    "name": "ipython",
    "version": 3
   },
   "file_extension": ".py",
   "mimetype": "text/x-python",
   "name": "python",
   "nbconvert_exporter": "python",
   "pygments_lexer": "ipython3",
   "version": "3.12.8"
  }
 },
 "nbformat": 4,
 "nbformat_minor": 2
}
